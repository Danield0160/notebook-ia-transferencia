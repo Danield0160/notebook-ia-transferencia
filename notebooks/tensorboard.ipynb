{
 "cells": [
  {
   "cell_type": "code",
   "execution_count": 1,
   "metadata": {},
   "outputs": [
    {
     "name": "stdout",
     "output_type": "stream",
     "text": [
      "Known TensorBoard instances:\n",
      "  - port 6011: logdir data/logs/ (started 11:16:04 ago; pid 11948)\n",
      "  - port 6006: logdir data/ (started 11:59:18 ago; pid 23172)\n",
      "  - port 6007: logdir {logdir} (started 11:57:32 ago; pid 26220)\n",
      "  - port 6009: logdir /data/logs/fit/ (started 11:16:53 ago; pid 37112)\n",
      "  - port 6008: logdir ../ (started 11:46:11 ago; pid 43440)\n",
      "  - port 6008: logdir /data/logs/fit (started 11:17:12 ago; pid 53752)\n",
      "  - port 6009: logdir ./data/logs/fit/ (started 11:45:32 ago; pid 57108)\n",
      "  - port 6006: logdir logs/fit (started 14:48:46 ago; pid 61112)\n",
      "  - port 6006: logdir data/logs/fit (started 11:22:28 ago; pid 7272)\n",
      "  - port 6010: logdir /data/logs/ (started 11:16:28 ago; pid 79336)\n"
     ]
    }
   ],
   "source": [
    "from tensorboard import notebook\n",
    "notebook.list() # View open TensorBoard instances"
   ]
  },
  {
   "cell_type": "code",
   "execution_count": 12,
   "metadata": {},
   "outputs": [
    {
     "name": "stdout",
     "output_type": "stream",
     "text": [
      "El puerto 6006 está siendo utilizado por el proceso: python.exe (PID: 23588)\n",
      "Proceso python.exe (PID: 23588) finalizado.\n"
     ]
    }
   ],
   "source": [
    "import psutil\n",
    "\n",
    "# Cambia el puerto al que deseas verificar\n",
    "puerto = 6006  # Ejemplo para el puerto 6006\n",
    "\n",
    "# Encontrar el proceso que está utilizando el puerto\n",
    "def encontrar_proceso_por_puerto(puerto):\n",
    "    for conexion in psutil.net_connections():\n",
    "        if conexion.laddr.port == puerto:\n",
    "            pid = conexion.pid\n",
    "            proceso = psutil.Process(pid)\n",
    "            return proceso\n",
    "    return None\n",
    "\n",
    "proceso = encontrar_proceso_por_puerto(puerto)\n",
    "\n",
    "if proceso:\n",
    "    print(f\"El puerto {puerto} está siendo utilizado por el proceso: {proceso.name()} (PID: {proceso.pid})\")\n",
    "else:\n",
    "    print(f\"No se encontró ningún proceso utilizando el puerto {puerto}\")\n",
    "    \n",
    "if proceso:\n",
    "    proceso.terminate()  # Termina el proceso de manera segura\n",
    "    print(f\"Proceso {proceso.name()} (PID: {proceso.pid}) finalizado.\")\n",
    "else:\n",
    "    print(f\"No se encontró ningún proceso utilizando el puerto {puerto}\")"
   ]
  },
  {
   "cell_type": "code",
   "execution_count": 5,
   "metadata": {},
   "outputs": [],
   "source": [
    "%load_ext tensorboard"
   ]
  },
  {
   "cell_type": "code",
   "execution_count": 14,
   "metadata": {},
   "outputs": [
    {
     "data": {
      "text/plain": [
       "Reusing TensorBoard on port 6006 (pid 22940), started 0:00:11 ago. (Use '!kill 22940' to kill it.)"
      ]
     },
     "metadata": {},
     "output_type": "display_data"
    },
    {
     "data": {
      "text/html": [
       "\n",
       "      <iframe id=\"tensorboard-frame-c958fb9bcaf9167\" width=\"100%\" height=\"800\" frameborder=\"0\">\n",
       "      </iframe>\n",
       "      <script>\n",
       "        (function() {\n",
       "          const frame = document.getElementById(\"tensorboard-frame-c958fb9bcaf9167\");\n",
       "          const url = new URL(\"http://localhost\");\n",
       "          const port = 6006;\n",
       "          if (port) {\n",
       "            url.port = port;\n",
       "          }\n",
       "          frame.src = url;\n",
       "        })();\n",
       "      </script>\n",
       "    "
      ],
      "text/plain": [
       "<IPython.core.display.HTML object>"
      ]
     },
     "metadata": {},
     "output_type": "display_data"
    }
   ],
   "source": [
    "%tensorboard --logdir=../data/logs/fit --port 6006"
   ]
  }
 ],
 "metadata": {
  "kernelspec": {
   "display_name": "Python 3",
   "language": "python",
   "name": "python3"
  },
  "language_info": {
   "codemirror_mode": {
    "name": "ipython",
    "version": 3
   },
   "file_extension": ".py",
   "mimetype": "text/x-python",
   "name": "python",
   "nbconvert_exporter": "python",
   "pygments_lexer": "ipython3",
   "version": "3.12.5"
  }
 },
 "nbformat": 4,
 "nbformat_minor": 2
}
