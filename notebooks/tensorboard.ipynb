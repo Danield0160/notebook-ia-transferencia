{
 "cells": [
  {
   "cell_type": "code",
   "execution_count": null,
   "metadata": {},
   "outputs": [],
   "source": [
    "from tensorboard import notebook\n",
    "notebook.list() # View open TensorBoard instances"
   ]
  },
  {
   "cell_type": "markdown",
   "metadata": {},
   "source": [
    "en caso de que tengas que matar el proceso del tensorboard, por si no te deja iniciarlo por puerto ocupado (por su anterior ejecución)"
   ]
  },
  {
   "cell_type": "code",
   "execution_count": null,
   "metadata": {},
   "outputs": [],
   "source": [
    "import psutil\n",
    "\n",
    "# Cambia el puerto al que deseas verificar\n",
    "puerto = 6006  # Ejemplo para el puerto 6006\n",
    "\n",
    "# Encontrar el proceso que está utilizando el puerto\n",
    "def encontrar_proceso_por_puerto(puerto):\n",
    "    for conexion in psutil.net_connections():\n",
    "        if conexion.laddr.port == puerto:\n",
    "            pid = conexion.pid\n",
    "            proceso = psutil.Process(pid)\n",
    "            return proceso\n",
    "    return None\n",
    "\n",
    "proceso = encontrar_proceso_por_puerto(puerto)\n",
    "\n",
    "if proceso:\n",
    "    print(f\"El puerto {puerto} está siendo utilizado por el proceso: {proceso.name()} (PID: {proceso.pid})\")\n",
    "else:\n",
    "    print(f\"No se encontró ningún proceso utilizando el puerto {puerto}\")\n",
    "    \n",
    "if proceso:\n",
    "    proceso.terminate()  # Termina el proceso de manera segura\n",
    "    print(f\"Proceso {proceso.name()} (PID: {proceso.pid}) finalizado.\")\n",
    "else:\n",
    "    print(f\"No se encontró ningún proceso utilizando el puerto {puerto}\")"
   ]
  },
  {
   "cell_type": "code",
   "execution_count": 1,
   "metadata": {},
   "outputs": [],
   "source": [
    "%load_ext tensorboard"
   ]
  },
  {
   "cell_type": "code",
   "execution_count": 2,
   "metadata": {},
   "outputs": [
    {
     "data": {
      "text/html": [
       "\n",
       "      <iframe id=\"tensorboard-frame-bb7a75170d2aa5f7\" width=\"100%\" height=\"800\" frameborder=\"0\">\n",
       "      </iframe>\n",
       "      <script>\n",
       "        (function() {\n",
       "          const frame = document.getElementById(\"tensorboard-frame-bb7a75170d2aa5f7\");\n",
       "          const url = new URL(\"/\", window.location);\n",
       "          const port = 6006;\n",
       "          if (port) {\n",
       "            url.port = port;\n",
       "          }\n",
       "          frame.src = url;\n",
       "        })();\n",
       "      </script>\n",
       "    "
      ],
      "text/plain": [
       "<IPython.core.display.HTML object>"
      ]
     },
     "metadata": {},
     "output_type": "display_data"
    }
   ],
   "source": [
    "%tensorboard --logdir=../data/logs/fit --port 6006"
   ]
  }
 ],
 "metadata": {
  "kernelspec": {
   "display_name": "Python 3",
   "language": "python",
   "name": "python3"
  },
  "language_info": {
   "codemirror_mode": {
    "name": "ipython",
    "version": 3
   },
   "file_extension": ".py",
   "mimetype": "text/x-python",
   "name": "python",
   "nbconvert_exporter": "python",
   "pygments_lexer": "ipython3",
   "version": "3.12.5"
  }
 },
 "nbformat": 4,
 "nbformat_minor": 2
}
